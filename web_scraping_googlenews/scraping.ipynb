{
 "cells": [
  {
   "cell_type": "code",
   "execution_count": 1,
   "metadata": {},
   "outputs": [
    {
     "ename": "ModuleNotFoundError",
     "evalue": "No module named 'selenium'",
     "output_type": "error",
     "traceback": [
      "\u001b[1;31m---------------------------------------------------------------------------\u001b[0m",
      "\u001b[1;31mModuleNotFoundError\u001b[0m                       Traceback (most recent call last)",
      "Cell \u001b[1;32mIn[1], line 1\u001b[0m\n\u001b[1;32m----> 1\u001b[0m \u001b[39mfrom\u001b[39;00m \u001b[39mselenium\u001b[39;00m\u001b[39m.\u001b[39;00m\u001b[39mwebdriver\u001b[39;00m\u001b[39m.\u001b[39;00m\u001b[39mcommon\u001b[39;00m\u001b[39m.\u001b[39;00m\u001b[39mkeys\u001b[39;00m \u001b[39mimport\u001b[39;00m Keys\n\u001b[0;32m      2\u001b[0m \u001b[39mfrom\u001b[39;00m \u001b[39mbs4\u001b[39;00m \u001b[39mimport\u001b[39;00m BeautifulSoup\n\u001b[0;32m      4\u001b[0m \u001b[39mdef\u001b[39;00m \u001b[39mbuscar_noticias\u001b[39m(cidade):\n",
      "\u001b[1;31mModuleNotFoundError\u001b[0m: No module named 'selenium'"
     ]
    }
   ],
   "source": [
    "\n",
    "from selenium.webdriver.common.keys import Keys\n",
    "from bs4 import BeautifulSoup\n",
    "\n",
    "def buscar_noticias(cidade):\n",
    "\n",
    "    url = \"https://news.google.com/topstories?hl=pt-BR&gl=BR&ceid=BR:pt-419\"\n",
    "    \n",
    "    driver.get(url)\n",
    "    \n",
    "    # com o driver do selenium, automatizei achar o sistema de busca do site\n",
    "    search_box = driver.find_element_by_class_name('gb_1d gb_Oe VISqTe')\n",
    "    search_box.send_keys(cidade)\n",
    "    search_box.send_keys(Keys.RETURN)\n",
    "    \n",
    "    #defini um tempo de espera pra não devolver NoSuchElementException\n",
    "    driver.implicitly_wait(10)\n",
    "    \n",
    "    #obter e analisar pagina\n",
    "    html = driver.page_source    \n",
    "    soup = BeautifulSoup(html, 'html.parser')\n",
    "    \n",
    "    noticias = soup.find_all('h3', class_='ipQwMb ekueJc RD0gLb')\n",
    "\n",
    "    for noticia in noticias:\n",
    "        print(noticia.text)\n",
    "\n",
    "# insere o nome da cidade no argumento da função\n",
    "buscar_noticias()\n"
   ]
  }
 ],
 "metadata": {
  "kernelspec": {
   "display_name": "Python 3",
   "language": "python",
   "name": "python3"
  },
  "language_info": {
   "codemirror_mode": {
    "name": "ipython",
    "version": 3
   },
   "file_extension": ".py",
   "mimetype": "text/x-python",
   "name": "python",
   "nbconvert_exporter": "python",
   "pygments_lexer": "ipython3",
   "version": "3.11.4"
  },
  "orig_nbformat": 4
 },
 "nbformat": 4,
 "nbformat_minor": 2
}
